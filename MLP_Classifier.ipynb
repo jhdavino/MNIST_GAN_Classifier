{
 "cells": [
  {
   "cell_type": "code",
   "execution_count": 1,
   "metadata": {
    "_cell_guid": "b1076dfc-b9ad-4769-8c92-a6c4dae69d19",
    "_uuid": "8f2839f25d086af736a60e9eeb907d3b93b6e0e5"
   },
   "outputs": [
    {
     "name": "stdout",
     "output_type": "stream",
     "text": [
      "['utils.py', 'dataset', 'generate_dataset.py', 'model', 'generate_missing_data.py', 'GAN.ipynb', '.ipynb_checkpoints', 'fill_dataset.ipynb', 'MLP_Classifier.ipynb', 'generate_csv_files.ipynb', 'LICENSE', 'generate_ones.py', '.git', 'README.md', '.gitignore']\n"
     ]
    }
   ],
   "source": [
    "# This Python 3 environment comes with many helpful analytics libraries installed\n",
    "# It is defined by the kaggle/python docker image: https://github.com/kaggle/docker-python\n",
    "# For example, here's several helpful packages to load in \n",
    "\n",
    "import numpy as np # linear algebra\n",
    "import pandas as pd # data processing, CSV file I/O (e.g. pd.read_csv)\n",
    "# Input data files are available in the \"../input/\" directory.\n",
    "# For example, running this (by clicking run or pressing Shift+Enter) will list the files in the input directory\n",
    "\n",
    "import os\n",
    "print(os.listdir())\n",
    "\n",
    "# Any results you write to the current directory are saved as output."
   ]
  },
  {
   "cell_type": "code",
   "execution_count": 2,
   "metadata": {},
   "outputs": [
    {
     "data": {
      "text/html": [
       "<div>\n",
       "<style scoped>\n",
       "    .dataframe tbody tr th:only-of-type {\n",
       "        vertical-align: middle;\n",
       "    }\n",
       "\n",
       "    .dataframe tbody tr th {\n",
       "        vertical-align: top;\n",
       "    }\n",
       "\n",
       "    .dataframe thead th {\n",
       "        text-align: right;\n",
       "    }\n",
       "</style>\n",
       "<table border=\"1\" class=\"dataframe\">\n",
       "  <thead>\n",
       "    <tr style=\"text-align: right;\">\n",
       "      <th></th>\n",
       "      <th>target</th>\n",
       "      <th>pixel0</th>\n",
       "      <th>pixel1</th>\n",
       "      <th>pixel2</th>\n",
       "      <th>pixel3</th>\n",
       "      <th>pixel4</th>\n",
       "      <th>pixel5</th>\n",
       "      <th>pixel6</th>\n",
       "      <th>pixel7</th>\n",
       "      <th>pixel8</th>\n",
       "      <th>...</th>\n",
       "      <th>pixel774</th>\n",
       "      <th>pixel775</th>\n",
       "      <th>pixel776</th>\n",
       "      <th>pixel777</th>\n",
       "      <th>pixel778</th>\n",
       "      <th>pixel779</th>\n",
       "      <th>pixel780</th>\n",
       "      <th>pixel781</th>\n",
       "      <th>pixel782</th>\n",
       "      <th>pixel783</th>\n",
       "    </tr>\n",
       "  </thead>\n",
       "  <tbody>\n",
       "    <tr>\n",
       "      <th>289</th>\n",
       "      <td>5</td>\n",
       "      <td>0.443137</td>\n",
       "      <td>0.494118</td>\n",
       "      <td>0.443137</td>\n",
       "      <td>0.505882</td>\n",
       "      <td>0.411765</td>\n",
       "      <td>0.501961</td>\n",
       "      <td>0.533333</td>\n",
       "      <td>0.521569</td>\n",
       "      <td>0.505882</td>\n",
       "      <td>...</td>\n",
       "      <td>0.458824</td>\n",
       "      <td>0.458824</td>\n",
       "      <td>0.505882</td>\n",
       "      <td>0.380392</td>\n",
       "      <td>0.470588</td>\n",
       "      <td>0.470588</td>\n",
       "      <td>0.423529</td>\n",
       "      <td>0.501961</td>\n",
       "      <td>0.450980</td>\n",
       "      <td>0.501961</td>\n",
       "    </tr>\n",
       "    <tr>\n",
       "      <th>7</th>\n",
       "      <td>0</td>\n",
       "      <td>0.392157</td>\n",
       "      <td>0.356863</td>\n",
       "      <td>0.329412</td>\n",
       "      <td>0.360784</td>\n",
       "      <td>0.349020</td>\n",
       "      <td>0.368627</td>\n",
       "      <td>0.325490</td>\n",
       "      <td>0.325490</td>\n",
       "      <td>0.356863</td>\n",
       "      <td>...</td>\n",
       "      <td>0.345098</td>\n",
       "      <td>0.333333</td>\n",
       "      <td>0.372549</td>\n",
       "      <td>0.349020</td>\n",
       "      <td>0.341176</td>\n",
       "      <td>0.360784</td>\n",
       "      <td>0.388235</td>\n",
       "      <td>0.368627</td>\n",
       "      <td>0.301961</td>\n",
       "      <td>0.360784</td>\n",
       "    </tr>\n",
       "  </tbody>\n",
       "</table>\n",
       "<p>2 rows × 785 columns</p>\n",
       "</div>"
      ],
      "text/plain": [
       "     target    pixel0    pixel1    pixel2    pixel3    pixel4    pixel5  \\\n",
       "289       5  0.443137  0.494118  0.443137  0.505882  0.411765  0.501961   \n",
       "7         0  0.392157  0.356863  0.329412  0.360784  0.349020  0.368627   \n",
       "\n",
       "       pixel6    pixel7    pixel8  ...  pixel774  pixel775  pixel776  \\\n",
       "289  0.533333  0.521569  0.505882  ...  0.458824  0.458824  0.505882   \n",
       "7    0.325490  0.325490  0.356863  ...  0.345098  0.333333  0.372549   \n",
       "\n",
       "     pixel777  pixel778  pixel779  pixel780  pixel781  pixel782  pixel783  \n",
       "289  0.380392  0.470588  0.470588  0.423529  0.501961  0.450980  0.501961  \n",
       "7    0.349020  0.341176  0.360784  0.388235  0.368627  0.301961  0.360784  \n",
       "\n",
       "[2 rows x 785 columns]"
      ]
     },
     "execution_count": 2,
     "metadata": {},
     "output_type": "execute_result"
    }
   ],
   "source": [
    "from sklearn.utils import shuffle \n",
    "\n",
    "df = pd.read_csv(\"dataset/train.csv\", index_col=0)\n",
    "df = shuffle(df)\n",
    "df.sample(2)"
   ]
  },
  {
   "cell_type": "code",
   "execution_count": 3,
   "metadata": {},
   "outputs": [],
   "source": [
    "y = df.iloc[:,:1]\n",
    "x = df.iloc[:,1:]"
   ]
  },
  {
   "cell_type": "markdown",
   "metadata": {},
   "source": [
    "# Input data"
   ]
  },
  {
   "cell_type": "code",
   "execution_count": 4,
   "metadata": {},
   "outputs": [],
   "source": [
    "from math import ceil\n",
    "\n",
    "n = x.shape[0]\n",
    "n_train = ceil(0.8 * n)\n",
    "n_test = ceil(0.2 * n)\n",
    "\n",
    "x_train = x[:n_train]\n",
    "y_train = y[:n_train]\n",
    "\n",
    "x_test = x[n_train:]\n",
    "y_test = y[n_train:]\n",
    "\n",
    "y_train = np.squeeze(y_train)\n",
    "y_test = np.squeeze(y_test)"
   ]
  },
  {
   "cell_type": "markdown",
   "metadata": {},
   "source": [
    "# Building the model and evaluating"
   ]
  },
  {
   "cell_type": "code",
   "execution_count": 5,
   "metadata": {},
   "outputs": [
    {
     "name": "stdout",
     "output_type": "stream",
     "text": [
      "MLPClassifier(activation='relu', alpha=1e-05, batch_size='auto', beta_1=0.9,\n",
      "       beta_2=0.999, early_stopping=False, epsilon=1e-08,\n",
      "       hidden_layer_sizes=(1024, 128), learning_rate='constant',\n",
      "       learning_rate_init=0.001, max_iter=150, momentum=0.9,\n",
      "       nesterovs_momentum=True, power_t=0.5, random_state=1, shuffle=True,\n",
      "       solver='adam', tol=0.0001, validation_fraction=0.1, verbose=False,\n",
      "       warm_start=False)\n"
     ]
    },
    {
     "name": "stderr",
     "output_type": "stream",
     "text": [
      "/home/iepsen/anaconda3/lib/python3.6/site-packages/sklearn/neural_network/multilayer_perceptron.py:564: ConvergenceWarning: Stochastic Optimizer: Maximum iterations (150) reached and the optimization hasn't converged yet.\n",
      "  % self.max_iter, ConvergenceWarning)\n"
     ]
    }
   ],
   "source": [
    "from sklearn.neural_network import MLPClassifier\n",
    "\n",
    "mlp_model = MLPClassifier(solver='adam', \n",
    "                          alpha=1e-5, \n",
    "                          hidden_layer_sizes=(1024, 128), \n",
    "                          random_state=1, \n",
    "                          max_iter=150)\n",
    "\n",
    "print(mlp_model)\n",
    "\n",
    "mlp_model.fit(x_train, y_train)                         \n",
    "pred_mlp =  mlp_model.predict(x_test)"
   ]
  },
  {
   "cell_type": "code",
   "execution_count": 6,
   "metadata": {},
   "outputs": [
    {
     "name": "stdout",
     "output_type": "stream",
     "text": [
      "\n",
      "\n",
      "Testing using MLP\n",
      "Mean Absolute Error: 0.39\n",
      "Mean Squared Error: 2.31\n",
      "Root Mean Squared Error: 1.5198684153570663\n"
     ]
    }
   ],
   "source": [
    "from sklearn.metrics import classification_report, confusion_matrix, accuracy_score\n",
    "from sklearn import metrics\n",
    "\n",
    "print(\"\\n\\nTesting using MLP\")\n",
    "print('Mean Absolute Error:', metrics.mean_absolute_error(y_test, pred_mlp))  \n",
    "print('Mean Squared Error:', metrics.mean_squared_error(y_test, pred_mlp))  \n",
    "print('Root Mean Squared Error:', np.sqrt(metrics.mean_squared_error(y_test, pred_mlp))) "
   ]
  },
  {
   "cell_type": "code",
   "execution_count": 7,
   "metadata": {},
   "outputs": [
    {
     "name": "stdout",
     "output_type": "stream",
     "text": [
      "\n",
      "\n",
      "MLP\n",
      "--- confusion_matrix ---\n",
      "[[12  0  0  0  0  0  0  0  0  0]\n",
      " [ 0  7  0  0  0  0  0  0  1  0]\n",
      " [ 0  0 10  0  0  0  0  0  0  0]\n",
      " [ 0  0  1  8  0  0  0  0  0  1]\n",
      " [ 0  0  0  0 13  0  0  0  0  0]\n",
      " [ 0  0  0  0  0  9  0  0  0  0]\n",
      " [ 1  0  0  0  0  1  8  0  0  0]\n",
      " [ 0  0  0  0  0  0  0  9  0  0]\n",
      " [ 0  0  1  0  0  0  0  0 10  0]\n",
      " [ 0  0  0  2  0  0  0  0  0  6]]\n",
      "\n",
      "--- classification report ---\n",
      "             precision    recall  f1-score   support\n",
      "\n",
      "          0       0.92      1.00      0.96        12\n",
      "          1       1.00      0.88      0.93         8\n",
      "          2       0.83      1.00      0.91        10\n",
      "          3       0.80      0.80      0.80        10\n",
      "          4       1.00      1.00      1.00        13\n",
      "          5       0.90      1.00      0.95         9\n",
      "          6       1.00      0.80      0.89        10\n",
      "          7       1.00      1.00      1.00         9\n",
      "          8       0.91      0.91      0.91        11\n",
      "          9       0.86      0.75      0.80         8\n",
      "\n",
      "avg / total       0.92      0.92      0.92       100\n",
      "\n",
      "\n",
      "model accuracy:  0.92\n"
     ]
    }
   ],
   "source": [
    "print(\"\\n\\nMLP\")\n",
    "print(\"--- confusion_matrix ---\")\n",
    "print(confusion_matrix(y_test, pred_mlp))  \n",
    "print(\"\\n--- classification report ---\")\n",
    "print(classification_report(y_test, pred_mlp))  \n",
    "print(\"\\nmodel accuracy: \", accuracy_score(y_test, pred_mlp))"
   ]
  },
  {
   "cell_type": "markdown",
   "metadata": {},
   "source": [
    "# Recognizing numbers (or not)"
   ]
  },
  {
   "cell_type": "code",
   "execution_count": 8,
   "metadata": {},
   "outputs": [
    {
     "data": {
      "text/html": [
       "<div>\n",
       "<style scoped>\n",
       "    .dataframe tbody tr th:only-of-type {\n",
       "        vertical-align: middle;\n",
       "    }\n",
       "\n",
       "    .dataframe tbody tr th {\n",
       "        vertical-align: top;\n",
       "    }\n",
       "\n",
       "    .dataframe thead th {\n",
       "        text-align: right;\n",
       "    }\n",
       "</style>\n",
       "<table border=\"1\" class=\"dataframe\">\n",
       "  <thead>\n",
       "    <tr style=\"text-align: right;\">\n",
       "      <th></th>\n",
       "      <th>target</th>\n",
       "      <th>pixel0</th>\n",
       "      <th>pixel1</th>\n",
       "      <th>pixel2</th>\n",
       "      <th>pixel3</th>\n",
       "      <th>pixel4</th>\n",
       "      <th>pixel5</th>\n",
       "      <th>pixel6</th>\n",
       "      <th>pixel7</th>\n",
       "      <th>pixel8</th>\n",
       "      <th>...</th>\n",
       "      <th>pixel774</th>\n",
       "      <th>pixel775</th>\n",
       "      <th>pixel776</th>\n",
       "      <th>pixel777</th>\n",
       "      <th>pixel778</th>\n",
       "      <th>pixel779</th>\n",
       "      <th>pixel780</th>\n",
       "      <th>pixel781</th>\n",
       "      <th>pixel782</th>\n",
       "      <th>pixel783</th>\n",
       "    </tr>\n",
       "  </thead>\n",
       "  <tbody>\n",
       "    <tr>\n",
       "      <th>62</th>\n",
       "      <td>6</td>\n",
       "      <td>0.454902</td>\n",
       "      <td>0.450980</td>\n",
       "      <td>0.466667</td>\n",
       "      <td>0.443137</td>\n",
       "      <td>0.411765</td>\n",
       "      <td>0.498039</td>\n",
       "      <td>0.494118</td>\n",
       "      <td>0.505882</td>\n",
       "      <td>0.470588</td>\n",
       "      <td>...</td>\n",
       "      <td>0.423529</td>\n",
       "      <td>0.411765</td>\n",
       "      <td>0.482353</td>\n",
       "      <td>0.388235</td>\n",
       "      <td>0.400000</td>\n",
       "      <td>0.443137</td>\n",
       "      <td>0.427451</td>\n",
       "      <td>0.462745</td>\n",
       "      <td>0.411765</td>\n",
       "      <td>0.474510</td>\n",
       "    </tr>\n",
       "    <tr>\n",
       "      <th>96</th>\n",
       "      <td>9</td>\n",
       "      <td>0.466667</td>\n",
       "      <td>0.443137</td>\n",
       "      <td>0.435294</td>\n",
       "      <td>0.388235</td>\n",
       "      <td>0.403922</td>\n",
       "      <td>0.494118</td>\n",
       "      <td>0.470588</td>\n",
       "      <td>0.458824</td>\n",
       "      <td>0.474510</td>\n",
       "      <td>...</td>\n",
       "      <td>0.396078</td>\n",
       "      <td>0.364706</td>\n",
       "      <td>0.466667</td>\n",
       "      <td>0.376471</td>\n",
       "      <td>0.380392</td>\n",
       "      <td>0.458824</td>\n",
       "      <td>0.388235</td>\n",
       "      <td>0.482353</td>\n",
       "      <td>0.396078</td>\n",
       "      <td>0.490196</td>\n",
       "    </tr>\n",
       "  </tbody>\n",
       "</table>\n",
       "<p>2 rows × 785 columns</p>\n",
       "</div>"
      ],
      "text/plain": [
       "    target    pixel0    pixel1    pixel2    pixel3    pixel4    pixel5  \\\n",
       "62       6  0.454902  0.450980  0.466667  0.443137  0.411765  0.498039   \n",
       "96       9  0.466667  0.443137  0.435294  0.388235  0.403922  0.494118   \n",
       "\n",
       "      pixel6    pixel7    pixel8  ...  pixel774  pixel775  pixel776  pixel777  \\\n",
       "62  0.494118  0.505882  0.470588  ...  0.423529  0.411765  0.482353  0.388235   \n",
       "96  0.470588  0.458824  0.474510  ...  0.396078  0.364706  0.466667  0.376471   \n",
       "\n",
       "    pixel778  pixel779  pixel780  pixel781  pixel782  pixel783  \n",
       "62  0.400000  0.443137  0.427451  0.462745  0.411765  0.474510  \n",
       "96  0.380392  0.458824  0.388235  0.482353  0.396078  0.490196  \n",
       "\n",
       "[2 rows x 785 columns]"
      ]
     },
     "execution_count": 8,
     "metadata": {},
     "output_type": "execute_result"
    }
   ],
   "source": [
    "df_test = pd.read_csv(\"dataset/test.csv\", index_col=0)\n",
    "df_test = shuffle(df_test)\n",
    "df_test.sample(2)"
   ]
  },
  {
   "cell_type": "code",
   "execution_count": 9,
   "metadata": {},
   "outputs": [
    {
     "data": {
      "text/plain": [
       "array([[0.44313725, 0.41960784, 0.43529412, ..., 0.42745098, 0.36078431,\n",
       "        0.45098039],\n",
       "       [0.29411765, 0.32941176, 0.29411765, ..., 0.29411765, 0.27843137,\n",
       "        0.24313725],\n",
       "       [0.39215686, 0.40784314, 0.38039216, ..., 0.38823529, 0.3372549 ,\n",
       "        0.39215686],\n",
       "       ...,\n",
       "       [0.47058824, 0.44313725, 0.43137255, ..., 0.4627451 , 0.41176471,\n",
       "        0.42352941],\n",
       "       [0.30980392, 0.2745098 , 0.28627451, ..., 0.28627451, 0.3254902 ,\n",
       "        0.2745098 ],\n",
       "       [0.48235294, 0.48235294, 0.45882353, ..., 0.50196078, 0.41960784,\n",
       "        0.45098039]])"
      ]
     },
     "execution_count": 9,
     "metadata": {},
     "output_type": "execute_result"
    }
   ],
   "source": [
    "test = df_test.iloc[:, 1:].values\n",
    "test_targets = df_test.iloc[:, 0].values\n",
    "test "
   ]
  },
  {
   "cell_type": "code",
   "execution_count": 10,
   "metadata": {},
   "outputs": [],
   "source": [
    "preds =  mlp_model.predict(test)"
   ]
  },
  {
   "cell_type": "code",
   "execution_count": 11,
   "metadata": {},
   "outputs": [
    {
     "name": "stdout",
     "output_type": "stream",
     "text": [
      "\n",
      "model accuracy:  0.8585858585858586\n"
     ]
    }
   ],
   "source": [
    "print(\"\\nmodel accuracy: \", accuracy_score(test_targets, preds))"
   ]
  },
  {
   "cell_type": "markdown",
   "metadata": {},
   "source": [
    "# Testing with real numbers of dataset"
   ]
  },
  {
   "cell_type": "code",
   "execution_count": 12,
   "metadata": {},
   "outputs": [
    {
     "data": {
      "text/html": [
       "<div>\n",
       "<style scoped>\n",
       "    .dataframe tbody tr th:only-of-type {\n",
       "        vertical-align: middle;\n",
       "    }\n",
       "\n",
       "    .dataframe tbody tr th {\n",
       "        vertical-align: top;\n",
       "    }\n",
       "\n",
       "    .dataframe thead th {\n",
       "        text-align: right;\n",
       "    }\n",
       "</style>\n",
       "<table border=\"1\" class=\"dataframe\">\n",
       "  <thead>\n",
       "    <tr style=\"text-align: right;\">\n",
       "      <th></th>\n",
       "      <th>target</th>\n",
       "      <th>pixel0</th>\n",
       "      <th>pixel1</th>\n",
       "      <th>pixel2</th>\n",
       "      <th>pixel3</th>\n",
       "      <th>pixel4</th>\n",
       "      <th>pixel5</th>\n",
       "      <th>pixel6</th>\n",
       "      <th>pixel7</th>\n",
       "      <th>pixel8</th>\n",
       "      <th>...</th>\n",
       "      <th>pixel774</th>\n",
       "      <th>pixel775</th>\n",
       "      <th>pixel776</th>\n",
       "      <th>pixel777</th>\n",
       "      <th>pixel778</th>\n",
       "      <th>pixel779</th>\n",
       "      <th>pixel780</th>\n",
       "      <th>pixel781</th>\n",
       "      <th>pixel782</th>\n",
       "      <th>pixel783</th>\n",
       "    </tr>\n",
       "  </thead>\n",
       "  <tbody>\n",
       "    <tr>\n",
       "      <th>283</th>\n",
       "      <td>5</td>\n",
       "      <td>0.443137</td>\n",
       "      <td>0.423529</td>\n",
       "      <td>0.435294</td>\n",
       "      <td>0.454902</td>\n",
       "      <td>0.380392</td>\n",
       "      <td>0.431373</td>\n",
       "      <td>0.454902</td>\n",
       "      <td>0.431373</td>\n",
       "      <td>0.423529</td>\n",
       "      <td>...</td>\n",
       "      <td>0.431373</td>\n",
       "      <td>0.407843</td>\n",
       "      <td>0.439216</td>\n",
       "      <td>0.407843</td>\n",
       "      <td>0.431373</td>\n",
       "      <td>0.396078</td>\n",
       "      <td>0.419608</td>\n",
       "      <td>0.431373</td>\n",
       "      <td>0.388235</td>\n",
       "      <td>0.470588</td>\n",
       "    </tr>\n",
       "    <tr>\n",
       "      <th>385</th>\n",
       "      <td>7</td>\n",
       "      <td>0.231373</td>\n",
       "      <td>0.247059</td>\n",
       "      <td>0.262745</td>\n",
       "      <td>0.294118</td>\n",
       "      <td>0.184314</td>\n",
       "      <td>0.219608</td>\n",
       "      <td>0.235294</td>\n",
       "      <td>0.396078</td>\n",
       "      <td>0.278431</td>\n",
       "      <td>...</td>\n",
       "      <td>0.215686</td>\n",
       "      <td>0.203922</td>\n",
       "      <td>0.356863</td>\n",
       "      <td>0.250980</td>\n",
       "      <td>0.254902</td>\n",
       "      <td>0.262745</td>\n",
       "      <td>0.333333</td>\n",
       "      <td>0.270588</td>\n",
       "      <td>0.254902</td>\n",
       "      <td>0.196078</td>\n",
       "    </tr>\n",
       "  </tbody>\n",
       "</table>\n",
       "<p>2 rows × 785 columns</p>\n",
       "</div>"
      ],
      "text/plain": [
       "     target    pixel0    pixel1    pixel2    pixel3    pixel4    pixel5  \\\n",
       "283       5  0.443137  0.423529  0.435294  0.454902  0.380392  0.431373   \n",
       "385       7  0.231373  0.247059  0.262745  0.294118  0.184314  0.219608   \n",
       "\n",
       "       pixel6    pixel7    pixel8  ...  pixel774  pixel775  pixel776  \\\n",
       "283  0.454902  0.431373  0.423529  ...  0.431373  0.407843  0.439216   \n",
       "385  0.235294  0.396078  0.278431  ...  0.215686  0.203922  0.356863   \n",
       "\n",
       "     pixel777  pixel778  pixel779  pixel780  pixel781  pixel782  pixel783  \n",
       "283  0.407843  0.431373  0.396078  0.419608  0.431373  0.388235  0.470588  \n",
       "385  0.250980  0.254902  0.262745  0.333333  0.270588  0.254902  0.196078  \n",
       "\n",
       "[2 rows x 785 columns]"
      ]
     },
     "execution_count": 12,
     "metadata": {},
     "output_type": "execute_result"
    }
   ],
   "source": [
    "df_real = pd.read_csv(\"dataset/mnist.csv\")\n",
    "df_real = shuffle(df)\n",
    "df_real.sample(2)"
   ]
  },
  {
   "cell_type": "code",
   "execution_count": 13,
   "metadata": {},
   "outputs": [],
   "source": [
    "data_real = df_real.iloc[:,1:].values\n",
    "targets_real = df_real.iloc[:,0].values\n",
    "preds =  mlp_model.predict(data_real)"
   ]
  },
  {
   "cell_type": "code",
   "execution_count": 14,
   "metadata": {},
   "outputs": [
    {
     "name": "stdout",
     "output_type": "stream",
     "text": [
      "\n",
      "model accuracy:  0.984\n"
     ]
    }
   ],
   "source": [
    "print(\"\\nmodel accuracy: \", accuracy_score(targets_real, preds))"
   ]
  }
 ],
 "metadata": {
  "kernelspec": {
   "display_name": "Python 3",
   "language": "python",
   "name": "python3"
  },
  "language_info": {
   "codemirror_mode": {
    "name": "ipython",
    "version": 3
   },
   "file_extension": ".py",
   "mimetype": "text/x-python",
   "name": "python",
   "nbconvert_exporter": "python",
   "pygments_lexer": "ipython3",
   "version": "3.6.5"
  }
 },
 "nbformat": 4,
 "nbformat_minor": 1
}
